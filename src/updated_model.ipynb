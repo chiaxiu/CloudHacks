{
 "cells": [
  {
   "cell_type": "code",
   "execution_count": 70,
   "metadata": {},
   "outputs": [],
   "source": [
    "import requests\n",
    "import pandas as pd\n",
    "from transformers import pipeline\n",
    "from PIL import Image, ImageDraw\n",
    "from io import BytesIO\n",
    "from database import SessionLocal, TrafficData\n",
    "from datetime import datetime\n",
    "from concurrent.futures import ThreadPoolExecutor"
   ]
  },
  {
   "cell_type": "code",
   "execution_count": 71,
   "metadata": {},
   "outputs": [],
   "source": [
    "checkpoint = \"google/owlv2-base-patch16-ensemble\"\n",
    "detector = pipeline(model=checkpoint, task=\"zero-shot-object-detection\")"
   ]
  },
  {
   "cell_type": "code",
   "execution_count": 72,
   "metadata": {},
   "outputs": [],
   "source": [
    "def fetch_traffic_images():\n",
    "    url = \"https://api.data.gov.sg/v1/transport/traffic-images\"\n",
    "    response = requests.get(url)\n",
    "    return response.json()"
   ]
  },
  {
   "cell_type": "code",
   "execution_count": 73,
   "metadata": {},
   "outputs": [],
   "source": [
    "def detect_cars(image_url):\n",
    "    response = requests.get(image_url)\n",
    "    image = Image.open(BytesIO(response.content)).convert('RGB')\n",
    "    results = detector(image=image, candidate_labels=['car'])\n",
    "    count = 0\n",
    "    for item in results: \n",
    "        if item['label'] == 'car' and item['score'] > 0.12:\n",
    "            count += 1\n",
    "    print('detected')\n",
    "    return count"
   ]
  },
  {
   "cell_type": "code",
   "execution_count": 74,
   "metadata": {},
   "outputs": [],
   "source": [
    "def congestion_meter(number_of_cars):\n",
    "    if number_of_cars >= 20:\n",
    "        return 'congested'\n",
    "    if number_of_cars >= 15:\n",
    "        return 'slightly congested'\n",
    "    if number_of_cars >= 10:\n",
    "        return 'normal'\n",
    "    if number_of_cars >= 5:\n",
    "        return 'better than normal'\n",
    "    else:\n",
    "        return 'basically no cars'"
   ]
  },
  {
   "cell_type": "code",
   "execution_count": 75,
   "metadata": {},
   "outputs": [],
   "source": [
    "expressway_mapping = {\n",
    "    '1002': 'PIE'\n",
    "}"
   ]
  },
  {
   "cell_type": "code",
   "execution_count": 76,
   "metadata": {},
   "outputs": [],
   "source": [
    "def transform(camera):\n",
    "    camera_id = camera['camera_id']\n",
    "    timestamp = datetime.fromisoformat(camera['timestamp'])\n",
    "    expressway = expressway_mapping.get(camera_id, 'PIE') ## to be changed later\n",
    "    image_url = camera['image']\n",
    "    number_of_cars = detect_cars(image_url)\n",
    "    description = congestion_meter(number_of_cars)\n",
    "\n",
    "    return {\n",
    "        \"camera_id\": camera_id,\n",
    "        \"timestamp\": timestamp,\n",
    "        \"expressway\": expressway,\n",
    "        \"image_url\": image_url,\n",
    "        \"number_of_cars\": number_of_cars,\n",
    "        \"description\": description\n",
    "    }"
   ]
  },
  {
   "cell_type": "code",
   "execution_count": 77,
   "metadata": {},
   "outputs": [],
   "source": [
    "def transform_and_store():\n",
    "    traffic_data = fetch_traffic_images()\n",
    "    cameras = traffic_data['items'][0]['cameras']\n",
    "\n",
    "    cameras = cameras[:10]\n",
    "\n",
    "    with ThreadPoolExecutor(max_workers=5) as executor:\n",
    "        results = list(executor.map(transform, cameras))\n",
    "\n",
    "    df = pd.DataFrame(results)\n",
    "    print(df)\n",
    "\n",
    "    db = SessionLocal()\n",
    "    for _, row in df.iterrows():\n",
    "        traffic_data = TrafficData(\n",
    "            camera_id = row['camera_id'],\n",
    "            timestamp = row['timestamp'],\n",
    "            expressway = row['expressway'],\n",
    "            image_url = row['image_url'],\n",
    "            number_of_cars = row['number_of_cars'],\n",
    "            description = row['description']\n",
    "        )\n",
    "        db.add(traffic_data)\n",
    "    db.commit()\n",
    "    db.close()\n",
    "\n",
    "transform_and_store()"
   ]
  }
 ],
 "metadata": {
  "kernelspec": {
   "display_name": "Python 3",
   "language": "python",
   "name": "python3"
  },
  "language_info": {
   "codemirror_mode": {
    "name": "ipython",
    "version": 3
   },
   "file_extension": ".py",
   "mimetype": "text/x-python",
   "name": "python",
   "nbconvert_exporter": "python",
   "pygments_lexer": "ipython3",
   "version": "3.11.9"
  }
 },
 "nbformat": 4,
 "nbformat_minor": 2
}

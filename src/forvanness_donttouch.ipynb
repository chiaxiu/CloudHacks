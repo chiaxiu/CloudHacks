{
 "cells": [
  {
   "cell_type": "code",
   "execution_count": 4,
   "metadata": {},
   "outputs": [],
   "source": [
    "import requests\n",
    "import json\n",
    "import pandas as pd\n",
    "import pandas as pd"
   ]
  },
  {
   "cell_type": "code",
   "execution_count": null,
   "metadata": {},
   "outputs": [],
   "source": [
    "data = requests.get('https://api.data.gov.sg/v1/transport/traffic-images')\n",
    "results = json.loads(data.text)\n",
    "print(results)\n"
   ]
  },
  {
   "cell_type": "code",
   "execution_count": 5,
   "metadata": {},
   "outputs": [
    {
     "name": "stdout",
     "output_type": "stream",
     "text": [
      "                    timestamp  \\\n",
      "0   2024-06-22T11:55:18+08:00   \n",
      "1   2024-06-22T11:55:18+08:00   \n",
      "2   2024-06-22T11:55:18+08:00   \n",
      "3   2024-06-22T11:55:18+08:00   \n",
      "4   2024-06-22T11:55:18+08:00   \n",
      "..                        ...   \n",
      "85  2024-06-22T11:55:18+08:00   \n",
      "86  2024-06-22T11:55:18+08:00   \n",
      "87  2024-06-22T11:55:18+08:00   \n",
      "88  2024-06-22T11:55:18+08:00   \n",
      "89  2024-06-22T07:40:50+08:00   \n",
      "\n",
      "                                                image  latitude   longitude  \\\n",
      "0   https://images.data.gov.sg/api/traffic-images/...  1.295313  103.871146   \n",
      "1   https://images.data.gov.sg/api/traffic-images/...  1.319541  103.878563   \n",
      "2   https://images.data.gov.sg/api/traffic-images/...  1.323957  103.872858   \n",
      "3   https://images.data.gov.sg/api/traffic-images/...  1.319536  103.875067   \n",
      "4   https://images.data.gov.sg/api/traffic-images/...  1.363520  103.905394   \n",
      "..                                                ...       ...         ...   \n",
      "85  https://images.data.gov.sg/api/traffic-images/...  1.422857  103.773005   \n",
      "86  https://images.data.gov.sg/api/traffic-images/...  1.422143  103.795421   \n",
      "87  https://images.data.gov.sg/api/traffic-images/...  1.426277  103.787166   \n",
      "88  https://images.data.gov.sg/api/traffic-images/...  1.412701  103.806427   \n",
      "89  https://images.data.gov.sg/api/traffic-images/...  1.312019  103.763002   \n",
      "\n",
      "   camera_id  image_height  image_width                         image_md5  \n",
      "0       1001           240          320  1bcca3d9c49b656a0c9a858bed9387c3  \n",
      "1       1002           240          320  6d948bfb1f87e92e3d12fce2a6b1bab3  \n",
      "2       1003           240          320  d0e6f06ac7ea9363deb2294e21e82308  \n",
      "3       1004           240          320  4029a0b8f351ec6c840d899d82353195  \n",
      "4       1005           240          320  0d44fa5e487170e58539bb50aaf0d793  \n",
      "..       ...           ...          ...                               ...  \n",
      "85      9703          1080         1920  691ad7ee90cabe04a67a167b6664be6f  \n",
      "86      9704          1080         1920  db05ee65619827d4b803d1b8ae254bc0  \n",
      "87      9705          1080         1920  62a89caa31e412050306fa2cc88f2099  \n",
      "88      9706          1080         1920  49087d44f31c3c80b07635bca01dcd3d  \n",
      "89      4709           288          352  b5fb3395e22ca1564fc5c16ef746e8a9  \n",
      "\n",
      "[90 rows x 8 columns]\n"
     ]
    }
   ],
   "source": [
    "cameras = results['items'][0]['cameras']\n",
    "\n",
    "# Flatten the nested dictionary structure\n",
    "camera_data = []\n",
    "for camera in cameras:\n",
    "    camera_info = {\n",
    "        'timestamp': camera['timestamp'],\n",
    "        'image': camera['image'],\n",
    "        'latitude': camera['location']['latitude'],\n",
    "        'longitude': camera['location']['longitude'],\n",
    "        'camera_id': camera['camera_id'],\n",
    "        'image_height': camera['image_metadata']['height'],\n",
    "        'image_width': camera['image_metadata']['width'],\n",
    "        'image_md5': camera['image_metadata']['md5']\n",
    "    }\n",
    "    camera_data.append(camera_info)\n",
    "\n",
    "# Create a DataFrame from the flattened data\n",
    "df = pd.DataFrame(camera_data)\n",
    "print(df)"
   ]
  }
 ],
 "metadata": {
  "kernelspec": {
   "display_name": "Python 3",
   "language": "python",
   "name": "python3"
  },
  "language_info": {
   "codemirror_mode": {
    "name": "ipython",
    "version": 3
   },
   "file_extension": ".py",
   "mimetype": "text/x-python",
   "name": "python",
   "nbconvert_exporter": "python",
   "pygments_lexer": "ipython3",
   "version": "3.11.9"
  }
 },
 "nbformat": 4,
 "nbformat_minor": 2
}

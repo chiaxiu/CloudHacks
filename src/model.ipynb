{
 "cells": [
  {
   "cell_type": "code",
   "execution_count": 12,
   "metadata": {},
   "outputs": [],
   "source": [
    "import requests\n",
    "import json\n",
    "import pandas as pd\n",
    "from transformers import pipeline\n",
    "from PIL import Image, ImageDraw\n",
    "from io import BytesIO"
   ]
  },
  {
   "cell_type": "code",
   "execution_count": 13,
   "metadata": {},
   "outputs": [],
   "source": [
    "data = requests.get('https://api.data.gov.sg/v1/transport/traffic-images')\n",
    "results = json.loads(data.text)"
   ]
  },
  {
   "cell_type": "code",
   "execution_count": 14,
   "metadata": {},
   "outputs": [
    {
     "name": "stdout",
     "output_type": "stream",
     "text": [
      "                    timestamp  \\\n",
      "0   2024-06-22T16:20:07+08:00   \n",
      "1   2024-06-22T16:20:07+08:00   \n",
      "2   2024-06-22T16:20:07+08:00   \n",
      "3   2024-06-22T16:20:07+08:00   \n",
      "4   2024-06-22T16:20:07+08:00   \n",
      "..                        ...   \n",
      "85  2024-06-22T16:20:07+08:00   \n",
      "86  2024-06-22T16:20:07+08:00   \n",
      "87  2024-06-22T16:20:07+08:00   \n",
      "88  2024-06-22T16:20:07+08:00   \n",
      "89  2024-06-22T15:50:46+08:00   \n",
      "\n",
      "                                                image  latitude   longitude  \\\n",
      "0   https://images.data.gov.sg/api/traffic-images/...  1.295313  103.871146   \n",
      "1   https://images.data.gov.sg/api/traffic-images/...  1.319541  103.878563   \n",
      "2   https://images.data.gov.sg/api/traffic-images/...  1.323957  103.872858   \n",
      "3   https://images.data.gov.sg/api/traffic-images/...  1.319536  103.875067   \n",
      "4   https://images.data.gov.sg/api/traffic-images/...  1.363520  103.905394   \n",
      "..                                                ...       ...         ...   \n",
      "85  https://images.data.gov.sg/api/traffic-images/...  1.422857  103.773005   \n",
      "86  https://images.data.gov.sg/api/traffic-images/...  1.422143  103.795421   \n",
      "87  https://images.data.gov.sg/api/traffic-images/...  1.426277  103.787166   \n",
      "88  https://images.data.gov.sg/api/traffic-images/...  1.412701  103.806427   \n",
      "89  https://images.data.gov.sg/api/traffic-images/...  1.312019  103.763002   \n",
      "\n",
      "   camera_id  image_height  image_width                         image_md5  \n",
      "0       1001           240          320  89618632cbac7f7f11fc724cc2987348  \n",
      "1       1002           240          320  66df6d95dbbf30111fa9b25e2b0d77d5  \n",
      "2       1003           240          320  9dd2ba176898ad8a2dab6652c893086f  \n",
      "3       1004           240          320  a90f1fa6ece2279ead19ee6a15d03bc6  \n",
      "4       1005           240          320  3d94fc4fd02a1ac32b48f9d843df45db  \n",
      "..       ...           ...          ...                               ...  \n",
      "85      9703          1080         1920  a7c46d5fe495d2119f9955c5978342f7  \n",
      "86      9704          1080         1920  275bf87d483e6377767acd6aa0a9c73b  \n",
      "87      9705          1080         1920  1a133e6037b1b3a279a7695d02e81d84  \n",
      "88      9706          1080         1920  4b80a09e0ded5c27641e431ab7cdcc41  \n",
      "89      4709           288          352  b5fb3395e22ca1564fc5c16ef746e8a9  \n",
      "\n",
      "[90 rows x 8 columns]\n"
     ]
    }
   ],
   "source": [
    "cameras = results['items'][0]['cameras']\n",
    "\n",
    "# Flatten the nested dictionary structure\n",
    "camera_data = []\n",
    "for camera in cameras:\n",
    "    camera_info = {\n",
    "        'timestamp': camera['timestamp'],\n",
    "        'image': camera['image'],\n",
    "        'latitude': camera['location']['latitude'],\n",
    "        'longitude': camera['location']['longitude'],\n",
    "        'camera_id': camera['camera_id'],\n",
    "        'image_height': camera['image_metadata']['height'],\n",
    "        'image_width': camera['image_metadata']['width'],\n",
    "        'image_md5': camera['image_metadata']['md5']\n",
    "    }\n",
    "    camera_data.append(camera_info)\n",
    "\n",
    "# Create a DataFrame from the flattened data\n",
    "df = pd.DataFrame(camera_data)\n",
    "print(df)"
   ]
  },
  {
   "cell_type": "code",
   "execution_count": 15,
   "metadata": {},
   "outputs": [],
   "source": [
    "## Hugging face api\n",
    "images = df['image'].tolist()\n",
    "response = requests.get(images[1])\n",
    "\n",
    "image = Image.open(BytesIO(response.content)).convert('RGB')\n",
    "\n",
    "checkpoint = \"google/owlv2-base-patch16-ensemble\"\n",
    "detector = pipeline(model=checkpoint, task=\"zero-shot-object-detection\")"
   ]
  },
  {
   "cell_type": "code",
   "execution_count": 16,
   "metadata": {},
   "outputs": [
    {
     "name": "stdout",
     "output_type": "stream",
     "text": [
      "prediction [{'score': 0.3506307005882263, 'label': 'cars', 'box': {'xmin': 58, 'ymin': 164, 'xmax': 89, 'ymax': 202}}, {'score': 0.29211434721946716, 'label': 'cars', 'box': {'xmin': 129, 'ymin': 127, 'xmax': 151, 'ymax': 150}}, {'score': 0.23054367303848267, 'label': 'cars', 'box': {'xmin': 15, 'ymin': 113, 'xmax': 39, 'ymax': 159}}, {'score': 0.22281529009342194, 'label': 'cars', 'box': {'xmin': 194, 'ymin': 50, 'xmax': 225, 'ymax': 66}}, {'score': 0.2053665965795517, 'label': 'cars', 'box': {'xmin': 136, 'ymin': 129, 'xmax': 150, 'ymax': 143}}, {'score': 0.18327496945858002, 'label': 'cars', 'box': {'xmin': 212, 'ymin': 62, 'xmax': 217, 'ymax': 67}}, {'score': 0.18087032437324524, 'label': 'cars', 'box': {'xmin': 213, 'ymin': 75, 'xmax': 218, 'ymax': 80}}, {'score': 0.17261463403701782, 'label': 'cars', 'box': {'xmin': 99, 'ymin': 75, 'xmax': 105, 'ymax': 84}}, {'score': 0.15984855592250824, 'label': 'cars', 'box': {'xmin': 218, 'ymin': 58, 'xmax': 224, 'ymax': 64}}, {'score': 0.15873710811138153, 'label': 'cars', 'box': {'xmin': 207, 'ymin': 53, 'xmax': 212, 'ymax': 58}}, {'score': 0.15531444549560547, 'label': 'cars', 'box': {'xmin': 195, 'ymin': 56, 'xmax': 201, 'ymax': 61}}, {'score': 0.15378448367118835, 'label': 'cars', 'box': {'xmin': 189, 'ymin': 50, 'xmax': 232, 'ymax': 79}}, {'score': 0.13951900601387024, 'label': 'cars', 'box': {'xmin': 201, 'ymin': 52, 'xmax': 208, 'ymax': 58}}, {'score': 0.13807135820388794, 'label': 'cars', 'box': {'xmin': 194, 'ymin': 47, 'xmax': 199, 'ymax': 52}}, {'score': 0.13748356699943542, 'label': 'cars', 'box': {'xmin': 104, 'ymin': 78, 'xmax': 110, 'ymax': 92}}, {'score': 0.13621066510677338, 'label': 'cars', 'box': {'xmin': 211, 'ymin': 55, 'xmax': 225, 'ymax': 65}}, {'score': 0.13061963021755219, 'label': 'cars', 'box': {'xmin': 190, 'ymin': 47, 'xmax': 200, 'ymax': 53}}, {'score': 0.12384973466396332, 'label': 'cars', 'box': {'xmin': 139, 'ymin': 139, 'xmax': 152, 'ymax': 155}}, {'score': 0.12290988117456436, 'label': 'cars', 'box': {'xmin': 204, 'ymin': 56, 'xmax': 209, 'ymax': 61}}, {'score': 0.1174028217792511, 'label': 'cars', 'box': {'xmin': 214, 'ymin': 55, 'xmax': 220, 'ymax': 60}}, {'score': 0.10449003428220749, 'label': 'cars', 'box': {'xmin': 127, 'ymin': 119, 'xmax': 151, 'ymax': 152}}, {'score': 0.10375704616308212, 'label': 'cars', 'box': {'xmin': 241, 'ymin': 52, 'xmax': 256, 'ymax': 64}}, {'score': 0.10138775408267975, 'label': 'cars', 'box': {'xmin': 16, 'ymin': 95, 'xmax': 24, 'ymax': 102}}]\n"
     ]
    }
   ],
   "source": [
    "prediction = detector(image, candidate_labels=['cars'])\n",
    "print('prediction', prediction)"
   ]
  },
  {
   "cell_type": "code",
   "execution_count": 17,
   "metadata": {},
   "outputs": [
    {
     "name": "stdout",
     "output_type": "stream",
     "text": [
      "19\n"
     ]
    }
   ],
   "source": [
    "def count_verified_cars(image):\n",
    "    verified_cars = 0\n",
    "    for car in image:\n",
    "        if car['score'] > 0.12:\n",
    "            verified_cars += 1\n",
    "    return verified_cars\n",
    "\n",
    "verified_cars = count_verified_cars(prediction)\n",
    "print(verified_cars)"
   ]
  },
  {
   "cell_type": "code",
   "execution_count": 18,
   "metadata": {},
   "outputs": [],
   "source": [
    "draw = ImageDraw.Draw(image)\n",
    "\n",
    "for p in prediction:\n",
    "    box = p['box']  \n",
    "    label = p['label']\n",
    "    score = p['score']\n",
    "\n",
    "    xmin, ymin, xmax, ymax = box.values()\n",
    "    draw.rectangle((xmin, ymin, xmax, ymax), outline='red', width=1)\n",
    "    draw.text((xmin, ymin), f'{label}: {round(score, 2)}', fill='white')\n",
    "\n",
    "image_filename = 'annotated_image.jpg'\n",
    "image.save(image_filename)\n"
   ]
  },
  {
   "cell_type": "code",
   "execution_count": 19,
   "metadata": {},
   "outputs": [],
   "source": [
    "# from flask import Flask, request, jsonify\n",
    "# import requests\n",
    "\n",
    "# app = Flask(__name__)\n",
    "\n",
    "# @app.route('/congestion', methods=['POST'])\n",
    "# def get_congestion_data():\n",
    "#     data = request.json\n",
    "#     lon, lat = data['longitude'], data['latitude']\n",
    "    \n",
    "#     # Call data.gov.sg API\n",
    "#     traffic_data = requests.get('https://api.data.gov.sg/v1/transport/traffic-images').json()\n",
    "#     image_url = get_image_url(traffic_data, lon, lat)  # Implement this function to get relevant image URL\n",
    "\n",
    "#     # Call AI Model for car count\n",
    "#     car_count = call_ai_model(image_url)  # Implement this function to use OpenAI/HuggingFace API\n",
    "    \n",
    "#     # Determine congestion level\n",
    "#     congestion_level = categorize_congestion(car_count)  # Implement this function to categorize\n",
    "    \n",
    "#     # Call Location API for address\n",
    "#     location = get_location(lon, lat)  # Implement this function to call reverse geocoding API\n",
    "    \n",
    "#     return jsonify({\n",
    "#         'car_count': car_count,\n",
    "#         'congestion_level': congestion_level,\n",
    "#         'location': location\n",
    "#     })\n",
    "\n",
    "# def get_image_url(traffic_data, lon, lat):\n",
    "#     # Logic to find the closest traffic camera image based on lon/lat\n",
    "#     pass\n",
    "\n",
    "# def call_ai_model(image_url):\n",
    "#     # Logic to send image to AI model and get car count\n",
    "#     pass\n",
    "\n",
    "# def categorize_congestion(car_count):\n",
    "#     if car_count < 10:\n",
    "#         return 1\n",
    "#     elif car_count < 20:\n",
    "#         return 2\n",
    "#     elif car_count < 30:\n",
    "#         return 3\n",
    "#     else:\n",
    "#         return 4\n",
    "\n",
    "# def get_location(lon, lat):\n",
    "#     response = requests.get(f'https://api.location.service/reverse-geocode?lon={lon}&lat={lat}')\n",
    "#     return response.json()['location']\n",
    "\n",
    "# if __name__ == '__main__':\n",
    "#     app.run(debug=True)\n"
   ]
  },
  {
   "cell_type": "code",
   "execution_count": 20,
   "metadata": {},
   "outputs": [],
   "source": [
    "data = requests.get('https://api.data.gov.sg/v1/transport/traffic-images')\n",
    "results = json.loads(data.text)"
   ]
  },
  {
   "cell_type": "code",
   "execution_count": 21,
   "metadata": {},
   "outputs": [],
   "source": [
    "## Hugging face api\n",
    "images = df['image'].tolist()\n",
    "response = requests.get(images[1])\n",
    "\n",
    "image = Image.open(BytesIO(response.content)).convert('RGB')\n",
    "\n",
    "checkpoint = \"google/owlv2-base-patch16-ensemble\"\n",
    "detector = pipeline(model=checkpoint, task=\"zero-shot-object-detection\")"
   ]
  },
  {
   "cell_type": "code",
   "execution_count": 22,
   "metadata": {},
   "outputs": [],
   "source": [
    "draw = ImageDraw.Draw(image)\n",
    "\n",
    "for p in prediction:\n",
    "    box = p['box']  \n",
    "    label = p['label']\n",
    "    score = p['score']\n",
    "\n",
    "    xmin, ymin, xmax, ymax = box.values()\n",
    "    draw.rectangle((xmin, ymin, xmax, ymax), outline='red', width=1)\n",
    "    draw.text((xmin, ymin), f'{label}: {round(score, 2)}', fill='white')\n",
    "\n",
    "image_filename = 'annotated_image.jpg'\n",
    "image.save(image_filename)\n"
   ]
  }
 ],
 "metadata": {
  "kernelspec": {
   "display_name": "Python 3",
   "language": "python",
   "name": "python3"
  },
  "language_info": {
   "codemirror_mode": {
    "name": "ipython",
    "version": 3
   },
   "file_extension": ".py",
   "mimetype": "text/x-python",
   "name": "python",
   "nbconvert_exporter": "python",
   "pygments_lexer": "ipython3",
   "version": "3.11.9"
  }
 },
 "nbformat": 4,
 "nbformat_minor": 2
}
